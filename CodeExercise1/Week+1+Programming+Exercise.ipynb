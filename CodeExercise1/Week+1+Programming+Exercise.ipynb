{
 "cells": [
  {
   "cell_type": "markdown",
   "metadata": {},
   "source": [
    "# Perceptron vs. Linear Regression for Classification\n",
    "In this Exercise we compare the Perceptron learning algorithm with linear regression as a means for classification.\n",
    "\n",
    "Along the way, we will get some acquaintance with the [Python](https://www.python.org/) programming language, and particular [NumPy](http://www.numpy.org/) and [MatplotLib](http://matplotlib.org/) from the [scipy](https://scipy.org/) ecosystem, as a language for machine learning. We will be using Python 3 here, which is not compatible with Python 2.x. For an introduction to Python the [Python Tutorial](https://docs.python.org/3.5/tutorial/index.html) is a great place to start; Similarly for [Getting Started](http://scipy.org/getting-started.html) with the Numpy and Matplotlib good places to start are the Numpy [Quickstart tutorial](http://docs.scipy.org/doc/numpy-dev/user/quickstart.html) and the [pyplot tutorial](http://matplotlib.org/users/pyplot_tutorial.html). If you have earlier experience with MATLAB, then the [Numpy for Matlab users](https://docs.scipy.org/doc/numpy-dev/user/numpy-for-matlab-users.html) document is a useful reference.\n",
    "\n",
    "But try first to jump right into the exercise below and confer these resources as needed. You can solve the exercise directly in this Jupyter notebook, but you can also copy the relevant code snippets to a separate .py file and for example use [IPython](http://ipython.readthedocs.io/en/stable/) to develop and test your code.\n",
    "\n",
    "In this exercise we are given several data sets of the following form:\n",
    "$D = \\{(x,y) \\mid x\\in \\{1\\} \\times \\mathbb{R}^2, y \\in \\{-1,+1\\}\\}$\n",
    "Here the input domain for the point sets is two dimensional which allows us to visualize them. In the data sets we have already added the dummy variable $x[0] = 1$ for all the points. So do not let the three dimensions confuse you, and lets load the data and afterwards plot the relevant two dimensions of the data instead.\n"
   ]
  },
  {
   "cell_type": "code",
   "execution_count": 1,
   "metadata": {
    "collapsed": false
   },
   "outputs": [
    {
     "data": {
      "text/plain": [
       "['dat3', 'target3', 'target2', 'dat4', 'target4', 'target1', 'dat2', 'dat1']"
      ]
     },
     "execution_count": 1,
     "metadata": {},
     "output_type": "execute_result"
    }
   ],
   "source": [
    "# Enable plotting directly in the notebook\n",
    "%matplotlib inline\n",
    "# import NumPy and MatplotLib pyplot\n",
    "import numpy as np\n",
    "import matplotlib.pyplot as plt\n",
    "\n",
    "D = np.load(\"ex1_data.npz\")\n",
    "D.files"
   ]
  },
  {
   "cell_type": "markdown",
   "metadata": {},
   "source": [
    "Here we have loaded the data from the zipped archive file \"ex1_data.npz\". Each file in the archive is a NumPy array in the Numpy .npy format. The files attribute of D lists all the files in the archive."
   ]
  },
  {
   "cell_type": "code",
   "execution_count": 2,
   "metadata": {
    "collapsed": false
   },
   "outputs": [
    {
     "name": "stdout",
     "output_type": "stream",
     "text": [
      "Shape of X1: (50, 3)\n",
      "What is X[0,0]: 1.0\n",
      "First 3 rows and columns of X1:\n",
      "[[ 1.          0.88124995  0.6332219 ]\n",
      " [ 1.          0.69868462  0.71099737]\n",
      " [ 1.          0.31830921  0.83082757]]\n"
     ]
    },
    {
     "data": {
      "text/plain": [
       "<matplotlib.collections.PathCollection at 0x7fb0b99f80f0>"
      ]
     },
     "execution_count": 2,
     "metadata": {},
     "output_type": "execute_result"
    },
    {
     "data": {
      "image/png": "[encoded data removed]",
      "text/plain": [
       "<matplotlib.figure.Figure at 0x7fb0b9a8a198>"
      ]
     },
     "metadata": {},
     "output_type": "display_data"
    }
   ],
   "source": [
    "# Extract the first dataset\n",
    "X1 = D['dat1']\n",
    "Y1 = D['target1']\n",
    "\n",
    "# X1 is a n x 3 NumPy-array.\n",
    "print('Shape of X1:',X1.shape)\n",
    "\n",
    "# NumPy arrays are indexes from 0. X1[0,0] is the first value of the first input point (and should be 1)\n",
    "print('What is X[0,0]: {0}'.format(X1[0,0]))\n",
    "\n",
    "# We can also index rows and columns of the NumPy array. For instance the first column is X1[:,0]\n",
    "# Here : indexes all rows and 0 indexes the first colums. This notation also supports ranges natually.\n",
    "# As an example lets see the first 3 rows and columns\n",
    "print(\"First 3 rows and columns of X1:\")\n",
    "print(X1[0:3,0:3])\n",
    "\n",
    "# To plot a point set we use the scatter plot functionality and set the color of each point according to the labels. \n",
    "# We plot the second, and third column ignoring the 1 column. For the color of each point we use the label.\n",
    "# For more info on scatter plots we can simply write \"plt.scatter?\" in the Code cell below and run the cell\n",
    "plt.axis([0, 1, 0, 1])\n",
    "plt.scatter(X1[:, 1], X1[:, 2], c=Y1, cmap=plt.cm.Paired, s=80)"
   ]
  },
  {
   "cell_type": "code",
   "execution_count": null,
   "metadata": {
    "collapsed": true
   },
   "outputs": [],
   "source": [
    "# Try to type \"plt.scatter?\" below and run the cell (Ctrl-enter)\n",
    "\n"
   ]
  },
  {
   "cell_type": "markdown",
   "metadata": {},
   "source": [
    "# Hyperplanes\n",
    "In this exercise we are looking at the task of finding good hyperplanes that separate the data and be used as classifiers.\n",
    "In 2D hyperplanes are just lines that split the plane into two halfplanes.\n",
    "\n",
    "So how do plot such things? Let's start with plotting a line and then we will see if you can actually plot a hyperplane."
   ]
  },
  {
   "cell_type": "code",
   "execution_count": 4,
   "metadata": {
    "collapsed": false
   },
   "outputs": [
    {
     "data": {
      "text/plain": [
       "[<matplotlib.lines.Line2D at 0x7fb0b9992be0>]"
      ]
     },
     "execution_count": 4,
     "metadata": {},
     "output_type": "execute_result"
    },
    {
     "data": {
      "image/png": "[encoded data removed]",
      "text/plain": [
       "<matplotlib.figure.Figure at 0x7fb0b9a75a58>"
      ]
     },
     "metadata": {},
     "output_type": "display_data"
    }
   ],
   "source": [
    "# Just plot the data set again. Same code as above.\n",
    "plt.axis([0, 1, 0, 1])\n",
    "plt.scatter(X1[:,1],X1[:,2],c=Y1,cmap=plt.cm.Paired,s=80)\n",
    "# Now we will use the most basic plotting command plot to plot a line.\n",
    "# The plot command takes a list of x coordinates and a list of y coordinates and then printing options.\n",
    "# '-b' means connect the points with a line and use color b=blue, linewidth is, wait for it..., the width of the line.\n",
    "plt.plot([0,0.6],[0.4,1],'-b',linewidth=2)\n",
    "# And you should also by now be able to guess how to get more info on the plt command, right? "
   ]
  },
  {
   "cell_type": "markdown",
   "metadata": {},
   "source": [
    "# Plotting Hyperplanes - special case through the origin.\n",
    "A hyperplane is represented by a vector $w$ and we need to plot the set $\\{x \\mid w^\\intercal x = 0\\}$ which in 2D is a line.\n",
    "What we learned above is how to plot a line between two points. So what we really need is to determine two points on the boundary of the plot.\n",
    "\n",
    "Lets say we get the hyperplane $w=[0,1,1]$. Since the first coordinate of $w$ is 0, this means that the hyperplane is a line through the origin. (Recall that the origin is given as (1,0,0) after introducing the dummy coordinate).\n",
    "This corresponds to the equation $x_1 +x_2 = 0$. How can we plot this in the input range $R = [-1,1] \\times [-1,1]$ ?\n",
    "We need to plot the set of points in $R$ that are orthogonal to $w$. For this simple case it is easy to see that the line goes through the two corners (-1,1) and (1,-1) of the input range. So the intersection of the line with the input range is exactly the line between these corners. Let's code that."
   ]
  },
  {
   "cell_type": "code",
   "execution_count": 5,
   "metadata": {
    "collapsed": false
   },
   "outputs": [
    {
     "data": {
      "text/plain": [
       "[<matplotlib.lines.Line2D at 0x7fb0b98fb898>]"
      ]
     },
     "execution_count": 5,
     "metadata": {},
     "output_type": "execute_result"
    },
    {
     "data": {
      "image/png": "[encoded data removed]",
      "text/plain": [
       "<matplotlib.figure.Figure at 0x7fb0b995a4e0>"
      ]
     },
     "metadata": {},
     "output_type": "display_data"
    }
   ],
   "source": [
    "# To fill the plot with some points we make a rescaling of our data to [-1,1] x [-1,1] instead of [0,1] x [0,1]\n",
    "X1r = X1.copy()\n",
    "X1r[:,1] = X1r[:,1]*2 -1\n",
    "X1r[:,2] = X1r[:,2]*2 -1\n",
    "plt.axis([-1, 1, -1, 1])\n",
    "# Plot points\n",
    "plt.scatter(X1r[:,1],X1r[:,2],c=Y1,cmap=plt.cm.Paired,s=80)\n",
    "# Plot hyperplane\n",
    "plt.plot([-1,1],[1,-1],'-r',linewidth=2)"
   ]
  },
  {
   "cell_type": "markdown",
   "metadata": {},
   "source": [
    "For a generic $w=(0,w_1,w_2)$ we would have the equation $w_1 x_1 + w_2 x_2 = 0$. How can we find two points on the boundary?"
   ]
  },
  {
   "cell_type": "markdown",
   "metadata": {},
   "source": [
    "# Plotting hyperplanes - general case\n",
    "To make the task of plotting a hyperplane a little easier, we may instead take advantage of the fact the MatplotLib does automatic clipping. So we may choose two points on the hyperplane which is on the boundary or possibly outside of the input range. Suppose that the input range is $R= [0,1] \\times [0,1]$ again. Suppose that the hyperplane intersects the two vertical lines $x_2 = 0$ and $x_2 = 1$. In that case we may simply choose these two intersection points as the endpoints of our line.\n",
    "\n",
    "## Task 1:\n",
    "Plot the hyperplane represented by $w=[-1.0,1.0,1.0]$ on the initial data set in the range $[0,1] \\times [0,1]$.\n",
    "\n",
    "Approach:\n",
    "Find the $x_2$-coordinate for the hyperplane (line) at $x_1=0$ and at $x_1=1$.\n",
    "\n",
    "You need to solve the hyperplane equations to do it:\n",
    "This equation is $w^\\intercal x = 0$ which is $w_0 \\cdot 1 + w_1 \\cdot x_1 + w_2 \\cdot x_2 = 0$, and if you know all but one variable you should be able to solve it."
   ]
  },
  {
   "cell_type": "code",
   "execution_count": null,
   "metadata": {
    "collapsed": false,
    "scrolled": true
   },
   "outputs": [],
   "source": [
    "# Write code here to create two NumPy arrays x and y that contain the x and y coordinates\n",
    "# of the two endpoints of the line to be drawn.\n",
    "\n",
    "x = np.array((0,0))\n",
    "y = np.array((0,0))\n",
    "\n",
    "plt.axis([0,1,0,1])\n",
    "plt.plot(x,y)"
   ]
  },
  {
   "cell_type": "markdown",
   "metadata": {},
   "source": [
    "## Task 2:\n",
    "\n",
    "For a generic $w=(w_0,w_1,w_2)$ we have the equation $w_0 + w_1 x_1 + w_2 x_2 = 0$. How can we find these two points in general? How about a general input range $R=[x_\\min,x_\\max] \\times [y_\\min,y_\\max]$?\n",
    "\n",
    "Finally, complete the function plot_hyperplane below. Remember to handle possible special cases! Notice how we pass along optional arguments to the plot function, which allows us to change color, etc. of the hyperplanes."
   ]
  },
  {
   "cell_type": "code",
   "execution_count": null,
   "metadata": {
    "collapsed": false,
    "scrolled": true
   },
   "outputs": [],
   "source": [
    "# function to plot a hyperplane in 2D\n",
    "\n",
    "def plot_hyperplane(w, *args, **kwargs): \n",
    "    if w[1]==0 and w[2]==0: raise ValueError('Invalid hyperplane')\n",
    "    xmin,xmax,ymin,ymax=plt.axis()\n",
    "    \n",
    "    # Write code here to create two NumPy arrays x and y that contain the x and y coordinates\n",
    "    # of the two endpoints of the line to be drawn.\n",
    "    \n",
    "    x = np.array((0,1))\n",
    "    y = np.array((0,1))\n",
    "    \n",
    "    # plot the line\n",
    "    plt.plot(x,y,*args,**kwargs)\n",
    "\n",
    "# testing the function\n",
    "\n",
    "plt.axis([0,1,0,1])\n",
    "plot_hyperplane((1,2,0), 'r--',linewidth=4)\n",
    "plot_hyperplane((1,0.75,-3), 'g--',linewidth=4)"
   ]
  },
  {
   "cell_type": "markdown",
   "metadata": {},
   "source": [
    "# The Algorithms\n",
    "Now that we know how to visualize the data and our hypotheses (hyperplanes) it is time to implement the algorithms.\n",
    "\n",
    "### Perceptron\n",
    "The Perceptron algorithm finds a hyperplane represented by a parameter vector $w_{\\textrm{pla}}$ that splits the input\n",
    "domain such that all points with $+1$ labels is on one side of the hyperplane and the points with labels\n",
    "$-1$ on the other (if that is possible). To label a new point $x$, simple output $\\textrm{sign}(w_\\textrm{pla}^\\intercal x)$\n",
    "\n",
    "### Linear regression \n",
    "Linear regression computes the linear model (line in 2D) that\n",
    "best approximates the real valued target (we compute the parameter vector \n",
    "$$\n",
    "w_{\\textrm{lin}} = \\textrm{argmin}_w \\sum_i (w^\\intercal x_i -y_i)^2\n",
    "$$\n",
    "\n",
    "The labels are either $+1$ or $-1$, but that is of course a small subset of the real numbers, so linear regression finds the best linear fit to these values over the input points. We can use exactly the same method to classify new points i.e. $\\textrm{sign}(w_\\textrm{lin}^\\intercal x)$ which is meaningfull in the sense that linear regression have tried to fit +1 and -1 and as such the sign makes sense.\n",
    "\n",
    "## Task 3:\n",
    "* Implement Linear Regression\n",
    "* Implement Perceptron Algorithm \n",
    "\n",
    "We have given a simple template below for both containing relevant comments for your benefit. You may find some more useful information about python and NumPy below."
   ]
  },
  {
   "cell_type": "code",
   "execution_count": null,
   "metadata": {
    "collapsed": false,
    "scrolled": false
   },
   "outputs": [],
   "source": [
    "def pla_train(X, y, w=None):\n",
    "    \"\"\"\n",
    "    Perceptron learning algorithm\n",
    "    \"\"\"\n",
    "    # if not starting vector is given we set it to the zero vector\n",
    "    if w is None:\n",
    "        w = np.zeros(X.shape[1])\n",
    "    # Run the perceptron iteration\n",
    "    \n",
    "    ...\n",
    "        \n",
    "    return w\n",
    "\n",
    "def lin_reg_train(X,y):\n",
    "    \"\"\" Linear Regression Learning Algorithm\n",
    "    The pseudo-inverse operator in numpy.linalg package may be usefull.\n",
    "    \"\"\"  \n",
    "    w = np.zeros(X.shape[1])  # Change this!\n",
    "    return w\n",
    "\n",
    "def plot_result(dat,target,w_lin,w_pla,title):\n",
    "    \"\"\"\n",
    "    Plot decision boundaries\n",
    "    \"\"\"\n",
    "    plt.figure(figsize=(10,8))\n",
    "    plt.axis([dat[:, 1].min(),dat[:, 1].max(),dat[:, 2].min(),dat[:, 2].max()])\n",
    "    \n",
    "    #Compute In Sample Error for the two models\n",
    "    p_in = 0  # Change this!\n",
    "    l_in = 0  # Change this!\n",
    "    \n",
    "    print(title, '- In Sample Error:\\n\\tPerceptron: {0}\\n\\tLinear Regression: {1}'.format(p_in,l_in))\n",
    "    # plot data\n",
    "    plt.scatter(dat[:,1],dat[:,2],c=target,cmap=plt.cm.Paired,s=20)\n",
    "    #plot pla line\n",
    "    plot_hyperplane(w_pla,'r--',linewidth=4,label='perceptron')    \n",
    "    #plot lin reg line\n",
    "    plot_hyperplane(w_lin,'g--',linewidth=4,label='lin. reg.')    \n",
    "    \n",
    "    plt.legend()\n",
    "    plt.title(title)\n",
    "\n",
    "\n",
    "dat = D\n",
    "dsets = [(dat['dat%d' % i], dat['target%d' % i]) for i in range(1, 5)]\n",
    "for i,(X,y) in enumerate(dsets):\n",
    "    w_pla = pla_train(X,y,np.zeros(3))\n",
    "    w_lin = lin_reg_train(X,y)\n",
    "    plot_result(X,y,w_lin,w_pla,\"Data Set {0}\".format(i+1))"
   ]
  },
  {
   "cell_type": "markdown",
   "metadata": {},
   "source": [
    "# A bit more about Python, NumPy, and MatplotLib\n",
    "\n",
    "## Loading and saving data\n",
    "We can load and save NumPy arrays using the commands load and savez"
   ]
  },
  {
   "cell_type": "code",
   "execution_count": 9,
   "metadata": {
    "collapsed": false
   },
   "outputs": [],
   "source": [
    "dat = np.ones((7,3))\n",
    "target = -1 * np.ones((7,))\n",
    "np.savez('myfile.npz',dat=dat, target=target)\n",
    "myfile = np.load('myfile.npz')\n",
    "dat = myfile['dat']\n",
    "target = myfile['target']"
   ]
  },
  {
   "cell_type": "markdown",
   "metadata": {},
   "source": [
    "## Boolean arrays (aka filters)\n",
    "\n",
    "From Boolean expressions used on NumPy arrays we can compute arrays of Booleans. This is sometimes also called a *filter*. The reason for this is that we can use a Boolean array for indexing another array. We can also extract an array of the true indices of a filter. This can be useful in conjunction with np.random.choice"
   ]
  },
  {
   "cell_type": "code",
   "execution_count": 10,
   "metadata": {
    "collapsed": false
   },
   "outputs": [
    {
     "name": "stdout",
     "output_type": "stream",
     "text": [
      "[-1 -1  1 -1  1 -1  1  1  1  1]\n",
      "[False False  True False  True False  True  True  True  True]\n",
      "[0 0 1 0 1 0 1 1 1 1]\n",
      "[2 4 6 7 8 9]\n",
      "Random index of a 1 entry of y: 2\n"
     ]
    }
   ],
   "source": [
    "# random array of -1,1 values\n",
    "y = 2*np.random.randint(2, size=10)-1\n",
    "# construct filter for indices with value 1\n",
    "pos = (y==1)\n",
    "# get array of true indices\n",
    "indices = pos.nonzero()[0]\n",
    "# the array y\n",
    "print(y)\n",
    "# the filter obtained from y\n",
    "print(pos)\n",
    "# printed as 0/1 values\n",
    "print(pos.astype(int))\n",
    "# the true indices\n",
    "print(indices)\n",
    "# selecting a random index\n",
    "print('Random index of a 1 entry of y:',np.random.choice(indices))"
   ]
  },
  {
   "cell_type": "markdown",
   "metadata": {},
   "source": [
    "If we have two filters a and b, we can combine them using Pythons bitwise operators: a&b is the intersection, a|b is the union, and ~a is the complement of a. This is useful when plotting e.g. the data points with label -1 that are classified incorrectly by the hyperplane, or combined with np.random.choise(indices)"
   ]
  },
  {
   "cell_type": "markdown",
   "metadata": {},
   "source": [
    "## Vectorization\n",
    "\n",
    "Vectorization is an important concept for getting efficient Python code. What we mean by vectorization is doing batch processing of data avoiding the explicit use of for loops, and instead making use of internal implementations of array operations of NumPy. This is precisely what we did above for constructing filters. Try to experiment yourself! You can time your code using the timeit function of Python. You should find that the speed increase by vectorization is by orders of magnitude!"
   ]
  },
  {
   "cell_type": "code",
   "execution_count": 11,
   "metadata": {
    "collapsed": false
   },
   "outputs": [
    {
     "name": "stdout",
     "output_type": "stream",
     "text": [
      "100 loops, best of 3: 7.7 µs per loop\n",
      "100 loops, best of 3: 1.99 ms per loop\n"
     ]
    }
   ],
   "source": [
    "import timeit\n",
    "\n",
    "def vectorized(y):\n",
    "    pos = (y==1)\n",
    "    return pos\n",
    "    \n",
    "def not_vectorized(y):\n",
    "    len = y.shape[0]\n",
    "    pos = np.zeros(len)\n",
    "    for i in range(len):\n",
    "        pos = y[i]==1\n",
    "    return y\n",
    "\n",
    "y = 2*np.random.randint(2, size=10000)-1\n",
    "\n",
    "%timeit -n 100 vectorized(y)\n",
    "%timeit -n 100 not_vectorized(y)"
   ]
  },
  {
   "cell_type": "markdown",
   "metadata": {},
   "source": [
    "Notice also the use here of [broadcasting](http://docs.scipy.org/doc/numpy/user/basics.broadcasting.html). For instance, in the line defining y, when we multiply the random array with 2, or subtracting 1, in fact the values 2 and 1 are treated as 1 dimensional arrays of size 1, which are then expanded into 1 dimensional arrays of size 10000, where the single entry is duplicated."
   ]
  },
  {
   "cell_type": "markdown",
   "metadata": {},
   "source": [
    "## Operations on vectors and matrices as NumPy arrays\n",
    "\n",
    "In NumPy 1-dimensional arrays naturally models vectors and 2-dimensional arrays naturally models matrices."
   ]
  },
  {
   "cell_type": "code",
   "execution_count": 12,
   "metadata": {
    "collapsed": false
   },
   "outputs": [
    {
     "name": "stdout",
     "output_type": "stream",
     "text": [
      "a = [1 2 3], ndim=1, shape=(3,)\n",
      "b = [[1 2 3]], ndim=2, shape=(1, 3)\n",
      "c = \n",
      "[[1]\n",
      " [2]\n",
      " [3]], ndim=2, shape=(3, 1)\n",
      "aA = [30 36 42]\n",
      "Aa = [14 32 50]\n",
      "bA = [[30 36 42]]\n",
      "cA = [[14]\n",
      " [32]\n",
      " [50]]\n"
     ]
    }
   ],
   "source": [
    "a = np.array([1,2,3])     # 3-dimensional vector\n",
    "b = np.array([[1,2,3]])   # 3-dimensional row vector (1x3 matrix)\n",
    "c = np.array([[1,2,3]]).T # 3-dimensional column vector (3x1 matrix)\n",
    "print('a = {}, ndim={}, shape={}'.format(a,a.ndim, a.shape))\n",
    "print('b = {}, ndim={}, shape={}'.format(b,b.ndim, b.shape))\n",
    "print('c = \\n{}, ndim={}, shape={}'.format(c,c.ndim, c.shape))\n",
    "A=np.arange(1,10).reshape(3,3)\n",
    "print('aA =',np.dot(a,A))\n",
    "print('Aa =',np.dot(A,a))\n",
    "print('bA =',np.dot(b,A))\n",
    "print('cA =',np.dot(A,c))"
   ]
  },
  {
   "cell_type": "markdown",
   "metadata": {},
   "source": [
    "Notice that when multiplying the vector <tt>a</tt>\n",
    "with the matrix <tt>A</tt> on the left, <tt>a</tt> behaves as a row vector, and when multiplying on the right <tt>a</tt> behaves as a column vector. The result is always a vector, whereas when multiplying by the corresponding row and column vectors <tt>b</tt> and <tt>c</tt> the result is again a row or column vector (since it is actually a matrix product).\n",
    "\n",
    "With Python 3.5 and above we may also use the <tt>@</tt> operator, which is a shorthand for the matmul function (which can be used instead of the dot function)."
   ]
  },
  {
   "cell_type": "code",
   "execution_count": 13,
   "metadata": {
    "collapsed": false
   },
   "outputs": [
    {
     "name": "stdout",
     "output_type": "stream",
     "text": [
      "aA = [30 36 42]\n",
      "Aa = [14 32 50]\n",
      "bA = [[30 36 42]]\n",
      "cA = [[14]\n",
      " [32]\n",
      " [50]]\n"
     ]
    }
   ],
   "source": [
    "print('aA =',a@A)\n",
    "print('Aa =',A@a)\n",
    "print('bA =',b@A)\n",
    "print('cA =',A@c)"
   ]
  },
  {
   "cell_type": "markdown",
   "metadata": {},
   "source": [
    "You should mainly use just 1-dimensional arrays for vectors. One can convert between these and row and column vectors as follows:"
   ]
  },
  {
   "cell_type": "code",
   "execution_count": 14,
   "metadata": {
    "collapsed": false
   },
   "outputs": [
    {
     "name": "stdout",
     "output_type": "stream",
     "text": [
      "a as a row vector : [[1 2 3]]\n",
      "a as a column vector :\n",
      " [[1]\n",
      " [2]\n",
      " [3]]\n",
      "b and c as vectors : [1 2 3] [1 2 3]\n"
     ]
    }
   ],
   "source": [
    "print('a as a row vector :',np.expand_dims(a,axis=0))\n",
    "print('a as a column vector :\\n',np.expand_dims(a,axis=1))\n",
    "print('b and c as vectors :', b.squeeze(),c.squeeze())"
   ]
  },
  {
   "cell_type": "markdown",
   "metadata": {},
   "source": [
    "So what are row and column vectors good for? In conjuction with broadcasting! Suppose we have an array of numbers, one for each row of the matrix, and we wish to subtract the given number for a row from each entry of the row. We can do this by just subtracting a column vector."
   ]
  },
  {
   "cell_type": "code",
   "execution_count": 15,
   "metadata": {
    "collapsed": false
   },
   "outputs": [
    {
     "name": "stdout",
     "output_type": "stream",
     "text": [
      "[[0 0 0]\n",
      " [3 3 3]\n",
      " [6 6 6]]\n",
      "[[0 0 0]\n",
      " [3 3 3]\n",
      " [6 6 6]]\n",
      "[[0 1 2]\n",
      " [2 3 4]\n",
      " [4 5 6]]\n"
     ]
    }
   ],
   "source": [
    "print(A-a) # subtracting a vector, the vector behaves as a row vector.\n",
    "print(A-b) # subtracting a row vector.\n",
    "print(A-c) # subtracting a column vector"
   ]
  },
  {
   "cell_type": "markdown",
   "metadata": {},
   "source": [
    "Often this happens in the situation where the vector has been computed from the matrix, say with the <tt>mean</tt> operation.\n",
    "In this case it is convinient to use the <tt>keepdims</tt> parameter. Actually, it can be a good idea to always explicitly use row or column vectors for this purpose to avoid confusion and bugs."
   ]
  },
  {
   "cell_type": "code",
   "execution_count": 16,
   "metadata": {
    "collapsed": false
   },
   "outputs": [
    {
     "name": "stdout",
     "output_type": "stream",
     "text": [
      "The matrix A:\n",
      " [[1 2 3]\n",
      " [4 5 6]\n",
      " [7 8 9]]\n",
      "The means of the rows of A:  [ 2.  5.  8.]\n",
      "and as a column vector:\n",
      " [[ 2.]\n",
      " [ 5.]\n",
      " [ 8.]]\n",
      "Each row translated to the mean:\n",
      " [[-1.  0.  1.]\n",
      " [-1.  0.  1.]\n",
      " [-1.  0.  1.]]\n",
      "And this is not what we wanted:\n",
      " [[ -5 -13 -21]\n",
      " [ -2 -10 -18]\n",
      " [  1  -7 -15]]\n"
     ]
    }
   ],
   "source": [
    "print('The matrix A:\\n',A)\n",
    "print('The means of the rows of A: ',np.mean(A,axis=1))\n",
    "print('and as a column vector:\\n',np.mean(A,axis=1,keepdims=True))\n",
    "print('Each row translated to the mean:\\n',A-np.mean(A,axis=1,keepdims=True))\n",
    "print('And this is not what we wanted:\\n',A-np.sum(A,axis=1))"
   ]
  },
  {
   "cell_type": "markdown",
   "metadata": {},
   "source": [
    "## Workflow of development with IPython\n",
    "\n",
    "You can load and run code files and use within IPython. We can work on a [code file](mycode.py) in an editor, and then load and run it from IPython. The simplest was is by using the built-in magic command %run. This loads and directly runs the code file as a python script. The script is run into the interactive workspace."
   ]
  },
  {
   "cell_type": "code",
   "execution_count": null,
   "metadata": {
    "collapsed": false
   },
   "outputs": [],
   "source": [
    "%run mycode"
   ]
  },
  {
   "cell_type": "markdown",
   "metadata": {},
   "source": [
    "Another option is to import the code file as a module. After editing we can then reload the code."
   ]
  },
  {
   "cell_type": "code",
   "execution_count": null,
   "metadata": {
    "collapsed": false
   },
   "outputs": [],
   "source": [
    "from importlib import reload # Python 3.4 and above. For earlier versions consult the documentation.\n",
    "# initial load of the code file mycode.py\n",
    "import mycode\n",
    "mycode.main()\n",
    "# After editing the file, we can reload and run\n",
    "reload(mycode)\n",
    "mycode.main()"
   ]
  }
 ],
 "metadata": {
  "anaconda-cloud": {},
  "kernelspec": {
   "display_name": "Python 3",
   "language": "python",
   "name": "python3"
  },
  "language_info": {
   "codemirror_mode": {
    "name": "ipython",
    "version": 3
   },
   "file_extension": ".py",
   "mimetype": "text/x-python",
   "name": "python",
   "nbconvert_exporter": "python",
   "pygments_lexer": "ipython3",
   "version": "3.5.2"
  }
 },
 "nbformat": 4,
 "nbformat_minor": 0
}
